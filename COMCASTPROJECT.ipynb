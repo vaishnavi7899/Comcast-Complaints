{
  "nbformat": 4,
  "nbformat_minor": 0,
  "metadata": {
    "colab": {
      "name": "COMCASTPROJECT",
      "provenance": [],
      "authorship_tag": "ABX9TyM5+dcG0Qs6+wrsnarRV84r",
      "include_colab_link": true
    },
    "kernelspec": {
      "name": "python3",
      "display_name": "Python 3"
    }
  },
  "cells": [
    {
      "cell_type": "markdown",
      "metadata": {
        "id": "view-in-github",
        "colab_type": "text"
      },
      "source": [
        "<a href=\"https://colab.research.google.com/github/vaishnavi7899/Comcast-Complaints/blob/master/COMCASTPROJECT.ipynb\" target=\"_parent\"><img src=\"https://colab.research.google.com/assets/colab-badge.svg\" alt=\"Open In Colab\"/></a>"
      ]
    },
    {
      "cell_type": "markdown",
      "metadata": {
        "id": "FX-i3NBZP792",
        "colab_type": "text"
      },
      "source": [
        "IMPORT LIBRARIES"
      ]
    },
    {
      "cell_type": "code",
      "metadata": {
        "id": "Y_tiK6K6P8ae",
        "colab_type": "code",
        "colab": {}
      },
      "source": [
        "import numpy as np\n",
        "import matplotlib.pyplot as plt\n",
        "import pandas as pd\n",
        "import sklearn\n",
        "import seaborn as sns "
      ],
      "execution_count": 2,
      "outputs": []
    },
    {
      "cell_type": "markdown",
      "metadata": {
        "id": "z_7li0o6P8qM",
        "colab_type": "text"
      },
      "source": [
        "1)IMPORT DATASET\n"
      ]
    },
    {
      "cell_type": "code",
      "metadata": {
        "id": "6T0GJxLlP872",
        "colab_type": "code",
        "colab": {
          "base_uri": "https://localhost:8080/",
          "height": 200
        },
        "outputId": "e60f0157-7239-4bf9-f129-1dd92c875eaa"
      },
      "source": [
        "dataset= pd.read_csv('Comcast Telecom Complaints data 1.csv')\n",
        "X = dataset.iloc[:, :-1].values\n",
        "print(X)\n",
        "\n"
      ],
      "execution_count": 3,
      "outputs": [
        {
          "output_type": "stream",
          "text": [
            "[['250635' 'Comcast Cable Internet Speeds' '22-04-2015' ... 'Maryland'\n",
            "  21009 'No']\n",
            " ['223441' 'Payment disappear - service got disconnected' '4/8/2015' ...\n",
            "  'Georgia' 30102 'No']\n",
            " ['242732' 'Speed and Service' '18-04-2015' ... 'Georgia' 30101 'Yes']\n",
            " ...\n",
            " ['331188' 'complaint about comcast' '6/9/2015' ... 'Michigan' 48197 'No']\n",
            " ['360489' 'Extremely unsatisfied Comcast customer' '23-06-2015' ...\n",
            "  'Michigan' 48197 'No']\n",
            " ['363614' 'Comcast, Ypsilanti MI Internet Speed' '24-06-2015' ...\n",
            "  'Michigan' 48198 'Yes']]\n"
          ],
          "name": "stdout"
        }
      ]
    },
    {
      "cell_type": "markdown",
      "metadata": {
        "id": "JEMMaWxBiKFi",
        "colab_type": "text"
      },
      "source": [
        "ENCODING CATEGORICAL DATA\n"
      ]
    },
    {
      "cell_type": "code",
      "metadata": {
        "id": "B7kZGAwoaIpo",
        "colab_type": "code",
        "colab": {
          "base_uri": "https://localhost:8080/",
          "height": 100
        },
        "outputId": "a845a16a-6453-4e91-ff7e-ff423228b98b"
      },
      "source": [
        "from sklearn.preprocessing import LabelEncoder\n",
        "le = LabelEncoder()\n",
        "cust_comp = le.fit_transform(dataset.iloc[:,1])\n",
        "print(cust_comp)\n",
        "rec_via = le.fit_transform(dataset.iloc[:,4])\n",
        "print(rec_via)\n",
        "city = le.fit_transform(dataset.iloc[:,5])\n",
        "print(city)\n",
        "state = le.fit_transform(dataset.iloc[:,6])\n",
        "print(state)\n",
        "onbehalf = le.fit_transform(dataset.iloc[:,8])\n",
        "print(onbehalf)\n"
      ],
      "execution_count": 4,
      "outputs": [
        {
          "output_type": "stream",
          "text": [
            "[ 245 1327 1448 ... 1686  971  818]\n",
            "[0 1 1 ... 1 0 0]\n",
            "[  0   1   1 ... 927 927 927]\n",
            "[18 10 10 ... 20 20 20]\n",
            "[0 0 1 ... 0 0 1]\n"
          ],
          "name": "stdout"
        }
      ]
    },
    {
      "cell_type": "markdown",
      "metadata": {
        "id": "LzDACDjuPB3A",
        "colab_type": "text"
      },
      "source": [
        "OBTAINING DATE,MONTH AND YEAR SEPERATELY\n",
        "REMOVING UNNECESSARY DATA(TICKET,ZIPCODE,TIME)\n"
      ]
    },
    {
      "cell_type": "code",
      "metadata": {
        "id": "_7uqbTzCW77s",
        "colab_type": "code",
        "colab": {
          "base_uri": "https://localhost:8080/",
          "height": 197
        },
        "outputId": "fb327188-7cfd-421e-a8af-86dd3eba9e88"
      },
      "source": [
        "dataset['year'] = pd.DatetimeIndex(dataset['Date']).year\n",
        "dataset['month'] = pd.DatetimeIndex(dataset['Date']).month\n",
        "dataset['day'] = pd.DatetimeIndex(dataset['Date']).day\n",
        "dataset.drop([\"Ticket #\", \"Time\",\"Zip code\",\"Date\"], axis = 1, inplace = True) \n",
        "\n",
        "dataset.head()\n"
      ],
      "execution_count": 5,
      "outputs": [
        {
          "output_type": "execute_result",
          "data": {
            "text/html": [
              "<div>\n",
              "<style scoped>\n",
              "    .dataframe tbody tr th:only-of-type {\n",
              "        vertical-align: middle;\n",
              "    }\n",
              "\n",
              "    .dataframe tbody tr th {\n",
              "        vertical-align: top;\n",
              "    }\n",
              "\n",
              "    .dataframe thead th {\n",
              "        text-align: right;\n",
              "    }\n",
              "</style>\n",
              "<table border=\"1\" class=\"dataframe\">\n",
              "  <thead>\n",
              "    <tr style=\"text-align: right;\">\n",
              "      <th></th>\n",
              "      <th>Customer Complaint</th>\n",
              "      <th>Received Via</th>\n",
              "      <th>City</th>\n",
              "      <th>State</th>\n",
              "      <th>Filing on Behalf of Someone</th>\n",
              "      <th>Status</th>\n",
              "      <th>year</th>\n",
              "      <th>month</th>\n",
              "      <th>day</th>\n",
              "    </tr>\n",
              "  </thead>\n",
              "  <tbody>\n",
              "    <tr>\n",
              "      <th>0</th>\n",
              "      <td>Comcast Cable Internet Speeds</td>\n",
              "      <td>Customer Care Call</td>\n",
              "      <td>Abingdon</td>\n",
              "      <td>Maryland</td>\n",
              "      <td>No</td>\n",
              "      <td>Closed</td>\n",
              "      <td>2015</td>\n",
              "      <td>4</td>\n",
              "      <td>22</td>\n",
              "    </tr>\n",
              "    <tr>\n",
              "      <th>1</th>\n",
              "      <td>Payment disappear - service got disconnected</td>\n",
              "      <td>Internet</td>\n",
              "      <td>Acworth</td>\n",
              "      <td>Georgia</td>\n",
              "      <td>No</td>\n",
              "      <td>Closed</td>\n",
              "      <td>2015</td>\n",
              "      <td>4</td>\n",
              "      <td>8</td>\n",
              "    </tr>\n",
              "    <tr>\n",
              "      <th>2</th>\n",
              "      <td>Speed and Service</td>\n",
              "      <td>Internet</td>\n",
              "      <td>Acworth</td>\n",
              "      <td>Georgia</td>\n",
              "      <td>Yes</td>\n",
              "      <td>Closed</td>\n",
              "      <td>2015</td>\n",
              "      <td>4</td>\n",
              "      <td>18</td>\n",
              "    </tr>\n",
              "    <tr>\n",
              "      <th>3</th>\n",
              "      <td>Comcast Imposed a New Usage Cap of 300GB that ...</td>\n",
              "      <td>Internet</td>\n",
              "      <td>Acworth</td>\n",
              "      <td>Georgia</td>\n",
              "      <td>Yes</td>\n",
              "      <td>Open</td>\n",
              "      <td>2015</td>\n",
              "      <td>5</td>\n",
              "      <td>7</td>\n",
              "    </tr>\n",
              "    <tr>\n",
              "      <th>4</th>\n",
              "      <td>Comcast not working and no service to boot</td>\n",
              "      <td>Internet</td>\n",
              "      <td>Acworth</td>\n",
              "      <td>Georgia</td>\n",
              "      <td>No</td>\n",
              "      <td>Solved</td>\n",
              "      <td>2015</td>\n",
              "      <td>5</td>\n",
              "      <td>26</td>\n",
              "    </tr>\n",
              "  </tbody>\n",
              "</table>\n",
              "</div>"
            ],
            "text/plain": [
              "                                  Customer Complaint  ... day\n",
              "0                      Comcast Cable Internet Speeds  ...  22\n",
              "1       Payment disappear - service got disconnected  ...   8\n",
              "2                                  Speed and Service  ...  18\n",
              "3  Comcast Imposed a New Usage Cap of 300GB that ...  ...   7\n",
              "4         Comcast not working and no service to boot  ...  26\n",
              "\n",
              "[5 rows x 9 columns]"
            ]
          },
          "metadata": {
            "tags": []
          },
          "execution_count": 5
        }
      ]
    },
    {
      "cell_type": "markdown",
      "metadata": {
        "id": "ZFA0icgJN2vR",
        "colab_type": "text"
      },
      "source": [
        "2)TO OBTAIN NO OF COMPLAINTS IN MONTHLY AND DAILY FORMAT"
      ]
    },
    {
      "cell_type": "code",
      "metadata": {
        "id": "7NRiB-bYAHXd",
        "colab_type": "code",
        "colab": {
          "base_uri": "https://localhost:8080/",
          "height": 83
        },
        "outputId": "f2a74cab-0c50-43ce-da39-a8db470c2f77"
      },
      "source": [
        "noc_pm = dataset['month'].value_counts()\n",
        "print(noc_pm)\n",
        "\n",
        "  "
      ],
      "execution_count": 128,
      "outputs": [
        {
          "output_type": "stream",
          "text": [
            "6    1280\n",
            "4     545\n",
            "5     399\n",
            "Name: month, dtype: int64\n"
          ],
          "name": "stdout"
        }
      ]
    },
    {
      "cell_type": "markdown",
      "metadata": {
        "id": "Zy2plaVFoNhH",
        "colab_type": "text"
      },
      "source": [
        "BY VIEWING THE ABOVE OUTPUT IT IS CLEAR THAT JUNE HAS HIGHEST NO OF COMPLAINTS LODGED WITH 1280 COMPLAINTS"
      ]
    },
    {
      "cell_type": "code",
      "metadata": {
        "id": "3m_hgxMUsMgk",
        "colab_type": "code",
        "colab": {
          "base_uri": "https://localhost:8080/",
          "height": 550
        },
        "outputId": "fa9fdb72-8d3c-450b-8e44-cc09e2973e69"
      },
      "source": [
        "noc_pd = dataset['day'].value_counts()\n",
        "print(noc_pd)"
      ],
      "execution_count": 116,
      "outputs": [
        {
          "output_type": "stream",
          "text": [
            "24    249\n",
            "23    225\n",
            "25    126\n",
            "26     90\n",
            "29     87\n",
            "30     86\n",
            "27     81\n",
            "28     79\n",
            "18     69\n",
            "13     68\n",
            "8      67\n",
            "22     66\n",
            "12     65\n",
            "16     65\n",
            "17     60\n",
            "2      59\n",
            "15     58\n",
            "1      55\n",
            "9      55\n",
            "14     54\n",
            "10     53\n",
            "20     51\n",
            "19     50\n",
            "5      49\n",
            "7      49\n",
            "3      45\n",
            "21     41\n",
            "11     38\n",
            "6      38\n",
            "4      36\n",
            "31     10\n",
            "Name: day, dtype: int64\n"
          ],
          "name": "stdout"
        }
      ]
    },
    {
      "cell_type": "markdown",
      "metadata": {
        "id": "QuAsLby643uL",
        "colab_type": "text"
      },
      "source": [
        "LINE PLOT REPRESENTING MONTHLY GRANULARITY LEVELS"
      ]
    },
    {
      "cell_type": "code",
      "metadata": {
        "id": "lkzjNb0t0hpg",
        "colab_type": "code",
        "colab": {
          "base_uri": "https://localhost:8080/",
          "height": 294
        },
        "outputId": "b688cc81-c7d0-4448-c188-de4620e1a8b8"
      },
      "source": [
        "sns.lineplot( data = noc_pm)\n",
        "plt.title('MONTHLY GRANULARITY LEVELS')\n",
        "plt.xlabel('DAY')\n",
        "plt.ylabel('NO. OF COMPLAINTS')\n",
        "plt.show()\n"
      ],
      "execution_count": 148,
      "outputs": [
        {
          "output_type": "display_data",
          "data": {
            "image/png": "[encoded data removed]",
            "text/plain": [
              "<Figure size 432x288 with 1 Axes>"
            ]
          },
          "metadata": {
            "tags": [],
            "needs_background": "light"
          }
        }
      ]
    },
    {
      "cell_type": "markdown",
      "metadata": {
        "id": "RY_C3idb5B52",
        "colab_type": "text"
      },
      "source": [
        "LINE PLOT REPRESENTING DAILY GRANULARITY LEVELS"
      ]
    },
    {
      "cell_type": "code",
      "metadata": {
        "id": "wJKkQV6-3xtl",
        "colab_type": "code",
        "colab": {
          "base_uri": "https://localhost:8080/",
          "height": 294
        },
        "outputId": "1c058f11-a76c-4c7e-dcd1-69daed79ff0f"
      },
      "source": [
        "sns.lineplot( data = noc_pd)\n",
        "plt.title('DAILY GRANULARITY LEVELS')\n",
        "plt.xlabel('DAY')\n",
        "plt.ylabel('NO. OF COMPLAINTS')\n",
        "plt.show()\n"
      ],
      "execution_count": 146,
      "outputs": [
        {
          "output_type": "display_data",
          "data": {
            "image/png": "[encoded data removed]",
            "text/plain": [
              "<Figure size 432x288 with 1 Axes>"
            ]
          },
          "metadata": {
            "tags": [],
            "needs_background": "light"
          }
        }
      ]
    },
    {
      "cell_type": "markdown",
      "metadata": {
        "id": "2txgXXyL3Qdn",
        "colab_type": "text"
      },
      "source": [
        "3)FREQUENCY TABLE OF LODGED COMPLAINTS"
      ]
    },
    {
      "cell_type": "code",
      "metadata": {
        "id": "pGIMp6Z1UNKT",
        "colab_type": "code",
        "colab": {
          "base_uri": "https://localhost:8080/",
          "height": 216
        },
        "outputId": "1b19f3bf-6a2b-4550-97aa-149ebf321e7e"
      },
      "source": [
        "dataset['Customer Complaint'] = dataset['Customer Complaint'].str.title()\n",
        "comp = dataset['Customer Complaint'].value_counts()\n",
        "print(comp)\n"
      ],
      "execution_count": 9,
      "outputs": [
        {
          "output_type": "stream",
          "text": [
            "Comcast                                                                             102\n",
            "Comcast Data Cap                                                                     30\n",
            "Comcast Internet                                                                     29\n",
            "Comcast Data Caps                                                                    21\n",
            "Comcast Billing                                                                      18\n",
            "                                                                                   ... \n",
            "Service Complaint                                                                     1\n",
            "Internet Service Is Down For Three Weeks Now.                                         1\n",
            "Service Outages (Comcast)                                                             1\n",
            "Repeatedly Have Been Promised Installations Without Anyone Arriving Or Notifying      1\n",
            "Comcast Runaround                                                                     1\n",
            "Name: Customer Complaint, Length: 1740, dtype: int64\n"
          ],
          "name": "stdout"
        }
      ]
    },
    {
      "cell_type": "code",
      "metadata": {
        "id": "aASBvIWCZS9-",
        "colab_type": "code",
        "colab": {
          "base_uri": "https://localhost:8080/",
          "height": 621
        },
        "outputId": "e7e0e6e1-cd8f-408c-cc5f-72258d314f04"
      },
      "source": [
        "dataset['Customer Complaint'].value_counts()[:20].plot(kind='bar',figsize=(8,8),stacked=True)"
      ],
      "execution_count": 10,
      "outputs": [
        {
          "output_type": "execute_result",
          "data": {
            "text/plain": [
              "<matplotlib.axes._subplots.AxesSubplot at 0x7f4f18efd4e0>"
            ]
          },
          "metadata": {
            "tags": []
          },
          "execution_count": 10
        },
        {
          "output_type": "display_data",
          "data": {
            "image/png": "[encoded data removed]",
            "text/plain": [
              "<Figure size 576x576 with 1 Axes>"
            ]
          },
          "metadata": {
            "tags": [],
            "needs_background": "light"
          }
        }
      ]
    },
    {
      "cell_type": "markdown",
      "metadata": {
        "id": "yx9xf8kF3bZ9",
        "colab_type": "text"
      },
      "source": [
        "4,7)TO FIND MAX LODGED COMPLAINT AND THE STATE THAT HAS LODGED MAX COMPLAINT"
      ]
    },
    {
      "cell_type": "code",
      "metadata": {
        "id": "Jx4eaNRjFL_u",
        "colab_type": "code",
        "colab": {
          "base_uri": "https://localhost:8080/",
          "height": 66
        },
        "outputId": "ef41c42a-4e16-49f6-eaf0-2e3a93cebf1d"
      },
      "source": [
        "print('The most lodged complaint is : ',dataset.iloc[:,0].value_counts().idxmax())\n",
        "print('The city that has lodged most number of complaints is :',dataset.iloc[:,2].value_counts().idxmax())\n",
        "print('The state that has lodged most number of complaints is :',dataset.iloc[:,3].value_counts().idxmax())"
      ],
      "execution_count": 11,
      "outputs": [
        {
          "output_type": "stream",
          "text": [
            "The most lodged complaint is :  Comcast\n",
            "The city that has lodged most number of complaints is : Atlanta\n",
            "The state that has lodged most number of complaints is : Georgia\n"
          ],
          "name": "stdout"
        }
      ]
    },
    {
      "cell_type": "markdown",
      "metadata": {
        "id": "J3hJUZCS7Olo",
        "colab_type": "text"
      },
      "source": [
        "5)NEW VARIABLE WITH OPEN AND PENDING AS OPEN,CLOSED AND SOLVED AS CLOSED"
      ]
    },
    {
      "cell_type": "code",
      "metadata": {
        "id": "Hc-ui_QB4T-5",
        "colab_type": "code",
        "colab": {
          "base_uri": "https://localhost:8080/",
          "height": 197
        },
        "outputId": "bbbf2f25-b4a4-4bd1-8607-456b3c37e1a2"
      },
      "source": [
        "dataset[\"finalstatus\"] = [\"Open\" if Status==\"Open\" or Status==\"Pending\" else \"Closed\"  for Status in dataset[\"Status\"]]\n",
        "dataset[\"finalstatus\"].unique()\n",
        "dataset.head()"
      ],
      "execution_count": 12,
      "outputs": [
        {
          "output_type": "execute_result",
          "data": {
            "text/html": [
              "<div>\n",
              "<style scoped>\n",
              "    .dataframe tbody tr th:only-of-type {\n",
              "        vertical-align: middle;\n",
              "    }\n",
              "\n",
              "    .dataframe tbody tr th {\n",
              "        vertical-align: top;\n",
              "    }\n",
              "\n",
              "    .dataframe thead th {\n",
              "        text-align: right;\n",
              "    }\n",
              "</style>\n",
              "<table border=\"1\" class=\"dataframe\">\n",
              "  <thead>\n",
              "    <tr style=\"text-align: right;\">\n",
              "      <th></th>\n",
              "      <th>Customer Complaint</th>\n",
              "      <th>Received Via</th>\n",
              "      <th>City</th>\n",
              "      <th>State</th>\n",
              "      <th>Filing on Behalf of Someone</th>\n",
              "      <th>Status</th>\n",
              "      <th>year</th>\n",
              "      <th>month</th>\n",
              "      <th>day</th>\n",
              "      <th>finalstatus</th>\n",
              "    </tr>\n",
              "  </thead>\n",
              "  <tbody>\n",
              "    <tr>\n",
              "      <th>0</th>\n",
              "      <td>Comcast Cable Internet Speeds</td>\n",
              "      <td>Customer Care Call</td>\n",
              "      <td>Abingdon</td>\n",
              "      <td>Maryland</td>\n",
              "      <td>No</td>\n",
              "      <td>Closed</td>\n",
              "      <td>2015</td>\n",
              "      <td>4</td>\n",
              "      <td>22</td>\n",
              "      <td>Closed</td>\n",
              "    </tr>\n",
              "    <tr>\n",
              "      <th>1</th>\n",
              "      <td>Payment Disappear - Service Got Disconnected</td>\n",
              "      <td>Internet</td>\n",
              "      <td>Acworth</td>\n",
              "      <td>Georgia</td>\n",
              "      <td>No</td>\n",
              "      <td>Closed</td>\n",
              "      <td>2015</td>\n",
              "      <td>4</td>\n",
              "      <td>8</td>\n",
              "      <td>Closed</td>\n",
              "    </tr>\n",
              "    <tr>\n",
              "      <th>2</th>\n",
              "      <td>Speed And Service</td>\n",
              "      <td>Internet</td>\n",
              "      <td>Acworth</td>\n",
              "      <td>Georgia</td>\n",
              "      <td>Yes</td>\n",
              "      <td>Closed</td>\n",
              "      <td>2015</td>\n",
              "      <td>4</td>\n",
              "      <td>18</td>\n",
              "      <td>Closed</td>\n",
              "    </tr>\n",
              "    <tr>\n",
              "      <th>3</th>\n",
              "      <td>Comcast Imposed A New Usage Cap Of 300Gb That ...</td>\n",
              "      <td>Internet</td>\n",
              "      <td>Acworth</td>\n",
              "      <td>Georgia</td>\n",
              "      <td>Yes</td>\n",
              "      <td>Open</td>\n",
              "      <td>2015</td>\n",
              "      <td>5</td>\n",
              "      <td>7</td>\n",
              "      <td>Open</td>\n",
              "    </tr>\n",
              "    <tr>\n",
              "      <th>4</th>\n",
              "      <td>Comcast Not Working And No Service To Boot</td>\n",
              "      <td>Internet</td>\n",
              "      <td>Acworth</td>\n",
              "      <td>Georgia</td>\n",
              "      <td>No</td>\n",
              "      <td>Solved</td>\n",
              "      <td>2015</td>\n",
              "      <td>5</td>\n",
              "      <td>26</td>\n",
              "      <td>Closed</td>\n",
              "    </tr>\n",
              "  </tbody>\n",
              "</table>\n",
              "</div>"
            ],
            "text/plain": [
              "                                  Customer Complaint  ... finalstatus\n",
              "0                      Comcast Cable Internet Speeds  ...      Closed\n",
              "1       Payment Disappear - Service Got Disconnected  ...      Closed\n",
              "2                                  Speed And Service  ...      Closed\n",
              "3  Comcast Imposed A New Usage Cap Of 300Gb That ...  ...        Open\n",
              "4         Comcast Not Working And No Service To Boot  ...      Closed\n",
              "\n",
              "[5 rows x 10 columns]"
            ]
          },
          "metadata": {
            "tags": []
          },
          "execution_count": 12
        }
      ]
    },
    {
      "cell_type": "markdown",
      "metadata": {
        "id": "XRIO2aY4bdKO",
        "colab_type": "text"
      },
      "source": [
        "6)STATE WISE STATUS OF COMPLAINT\n"
      ]
    },
    {
      "cell_type": "code",
      "metadata": {
        "id": "B3SpTq5obb4N",
        "colab_type": "code",
        "colab": {
          "base_uri": "https://localhost:8080/",
          "height": 1000
        },
        "outputId": "bfe85d7d-5f3c-4f4b-9c42-8f14cbcd21a4"
      },
      "source": [
        "dataset['State'] = dataset['State'].str.title() \n",
        "statecomp = dataset.groupby(['State','finalstatus']).size().unstack().fillna(0)\n",
        "statecomp"
      ],
      "execution_count": 13,
      "outputs": [
        {
          "output_type": "execute_result",
          "data": {
            "text/html": [
              "<div>\n",
              "<style scoped>\n",
              "    .dataframe tbody tr th:only-of-type {\n",
              "        vertical-align: middle;\n",
              "    }\n",
              "\n",
              "    .dataframe tbody tr th {\n",
              "        vertical-align: top;\n",
              "    }\n",
              "\n",
              "    .dataframe thead th {\n",
              "        text-align: right;\n",
              "    }\n",
              "</style>\n",
              "<table border=\"1\" class=\"dataframe\">\n",
              "  <thead>\n",
              "    <tr style=\"text-align: right;\">\n",
              "      <th>finalstatus</th>\n",
              "      <th>Closed</th>\n",
              "      <th>Open</th>\n",
              "    </tr>\n",
              "    <tr>\n",
              "      <th>State</th>\n",
              "      <th></th>\n",
              "      <th></th>\n",
              "    </tr>\n",
              "  </thead>\n",
              "  <tbody>\n",
              "    <tr>\n",
              "      <th>Alabama</th>\n",
              "      <td>17.0</td>\n",
              "      <td>9.0</td>\n",
              "    </tr>\n",
              "    <tr>\n",
              "      <th>Arizona</th>\n",
              "      <td>14.0</td>\n",
              "      <td>6.0</td>\n",
              "    </tr>\n",
              "    <tr>\n",
              "      <th>Arkansas</th>\n",
              "      <td>6.0</td>\n",
              "      <td>0.0</td>\n",
              "    </tr>\n",
              "    <tr>\n",
              "      <th>California</th>\n",
              "      <td>159.0</td>\n",
              "      <td>61.0</td>\n",
              "    </tr>\n",
              "    <tr>\n",
              "      <th>Colorado</th>\n",
              "      <td>58.0</td>\n",
              "      <td>22.0</td>\n",
              "    </tr>\n",
              "    <tr>\n",
              "      <th>Connecticut</th>\n",
              "      <td>9.0</td>\n",
              "      <td>3.0</td>\n",
              "    </tr>\n",
              "    <tr>\n",
              "      <th>Delaware</th>\n",
              "      <td>8.0</td>\n",
              "      <td>4.0</td>\n",
              "    </tr>\n",
              "    <tr>\n",
              "      <th>District Of Columbia</th>\n",
              "      <td>15.0</td>\n",
              "      <td>2.0</td>\n",
              "    </tr>\n",
              "    <tr>\n",
              "      <th>Florida</th>\n",
              "      <td>201.0</td>\n",
              "      <td>39.0</td>\n",
              "    </tr>\n",
              "    <tr>\n",
              "      <th>Georgia</th>\n",
              "      <td>208.0</td>\n",
              "      <td>80.0</td>\n",
              "    </tr>\n",
              "    <tr>\n",
              "      <th>Illinois</th>\n",
              "      <td>135.0</td>\n",
              "      <td>29.0</td>\n",
              "    </tr>\n",
              "    <tr>\n",
              "      <th>Indiana</th>\n",
              "      <td>50.0</td>\n",
              "      <td>9.0</td>\n",
              "    </tr>\n",
              "    <tr>\n",
              "      <th>Iowa</th>\n",
              "      <td>1.0</td>\n",
              "      <td>0.0</td>\n",
              "    </tr>\n",
              "    <tr>\n",
              "      <th>Kansas</th>\n",
              "      <td>1.0</td>\n",
              "      <td>1.0</td>\n",
              "    </tr>\n",
              "    <tr>\n",
              "      <th>Kentucky</th>\n",
              "      <td>4.0</td>\n",
              "      <td>3.0</td>\n",
              "    </tr>\n",
              "    <tr>\n",
              "      <th>Louisiana</th>\n",
              "      <td>12.0</td>\n",
              "      <td>1.0</td>\n",
              "    </tr>\n",
              "    <tr>\n",
              "      <th>Maine</th>\n",
              "      <td>3.0</td>\n",
              "      <td>2.0</td>\n",
              "    </tr>\n",
              "    <tr>\n",
              "      <th>Maryland</th>\n",
              "      <td>63.0</td>\n",
              "      <td>15.0</td>\n",
              "    </tr>\n",
              "    <tr>\n",
              "      <th>Massachusetts</th>\n",
              "      <td>50.0</td>\n",
              "      <td>11.0</td>\n",
              "    </tr>\n",
              "    <tr>\n",
              "      <th>Michigan</th>\n",
              "      <td>92.0</td>\n",
              "      <td>23.0</td>\n",
              "    </tr>\n",
              "    <tr>\n",
              "      <th>Minnesota</th>\n",
              "      <td>29.0</td>\n",
              "      <td>4.0</td>\n",
              "    </tr>\n",
              "    <tr>\n",
              "      <th>Mississippi</th>\n",
              "      <td>23.0</td>\n",
              "      <td>16.0</td>\n",
              "    </tr>\n",
              "    <tr>\n",
              "      <th>Missouri</th>\n",
              "      <td>3.0</td>\n",
              "      <td>1.0</td>\n",
              "    </tr>\n",
              "    <tr>\n",
              "      <th>Montana</th>\n",
              "      <td>1.0</td>\n",
              "      <td>0.0</td>\n",
              "    </tr>\n",
              "    <tr>\n",
              "      <th>Nevada</th>\n",
              "      <td>1.0</td>\n",
              "      <td>0.0</td>\n",
              "    </tr>\n",
              "    <tr>\n",
              "      <th>New Hampshire</th>\n",
              "      <td>8.0</td>\n",
              "      <td>4.0</td>\n",
              "    </tr>\n",
              "    <tr>\n",
              "      <th>New Jersey</th>\n",
              "      <td>56.0</td>\n",
              "      <td>19.0</td>\n",
              "    </tr>\n",
              "    <tr>\n",
              "      <th>New Mexico</th>\n",
              "      <td>11.0</td>\n",
              "      <td>4.0</td>\n",
              "    </tr>\n",
              "    <tr>\n",
              "      <th>New York</th>\n",
              "      <td>6.0</td>\n",
              "      <td>0.0</td>\n",
              "    </tr>\n",
              "    <tr>\n",
              "      <th>North Carolina</th>\n",
              "      <td>3.0</td>\n",
              "      <td>0.0</td>\n",
              "    </tr>\n",
              "    <tr>\n",
              "      <th>Ohio</th>\n",
              "      <td>3.0</td>\n",
              "      <td>0.0</td>\n",
              "    </tr>\n",
              "    <tr>\n",
              "      <th>Oregon</th>\n",
              "      <td>36.0</td>\n",
              "      <td>13.0</td>\n",
              "    </tr>\n",
              "    <tr>\n",
              "      <th>Pennsylvania</th>\n",
              "      <td>110.0</td>\n",
              "      <td>20.0</td>\n",
              "    </tr>\n",
              "    <tr>\n",
              "      <th>Rhode Island</th>\n",
              "      <td>1.0</td>\n",
              "      <td>0.0</td>\n",
              "    </tr>\n",
              "    <tr>\n",
              "      <th>South Carolina</th>\n",
              "      <td>15.0</td>\n",
              "      <td>3.0</td>\n",
              "    </tr>\n",
              "    <tr>\n",
              "      <th>Tennessee</th>\n",
              "      <td>96.0</td>\n",
              "      <td>47.0</td>\n",
              "    </tr>\n",
              "    <tr>\n",
              "      <th>Texas</th>\n",
              "      <td>49.0</td>\n",
              "      <td>22.0</td>\n",
              "    </tr>\n",
              "    <tr>\n",
              "      <th>Utah</th>\n",
              "      <td>16.0</td>\n",
              "      <td>6.0</td>\n",
              "    </tr>\n",
              "    <tr>\n",
              "      <th>Vermont</th>\n",
              "      <td>2.0</td>\n",
              "      <td>1.0</td>\n",
              "    </tr>\n",
              "    <tr>\n",
              "      <th>Virginia</th>\n",
              "      <td>49.0</td>\n",
              "      <td>11.0</td>\n",
              "    </tr>\n",
              "    <tr>\n",
              "      <th>Washington</th>\n",
              "      <td>75.0</td>\n",
              "      <td>23.0</td>\n",
              "    </tr>\n",
              "    <tr>\n",
              "      <th>West Virginia</th>\n",
              "      <td>8.0</td>\n",
              "      <td>3.0</td>\n",
              "    </tr>\n",
              "  </tbody>\n",
              "</table>\n",
              "</div>"
            ],
            "text/plain": [
              "finalstatus           Closed  Open\n",
              "State                             \n",
              "Alabama                 17.0   9.0\n",
              "Arizona                 14.0   6.0\n",
              "Arkansas                 6.0   0.0\n",
              "California             159.0  61.0\n",
              "Colorado                58.0  22.0\n",
              "Connecticut              9.0   3.0\n",
              "Delaware                 8.0   4.0\n",
              "District Of Columbia    15.0   2.0\n",
              "Florida                201.0  39.0\n",
              "Georgia                208.0  80.0\n",
              "Illinois               135.0  29.0\n",
              "Indiana                 50.0   9.0\n",
              "Iowa                     1.0   0.0\n",
              "Kansas                   1.0   1.0\n",
              "Kentucky                 4.0   3.0\n",
              "Louisiana               12.0   1.0\n",
              "Maine                    3.0   2.0\n",
              "Maryland                63.0  15.0\n",
              "Massachusetts           50.0  11.0\n",
              "Michigan                92.0  23.0\n",
              "Minnesota               29.0   4.0\n",
              "Mississippi             23.0  16.0\n",
              "Missouri                 3.0   1.0\n",
              "Montana                  1.0   0.0\n",
              "Nevada                   1.0   0.0\n",
              "New Hampshire            8.0   4.0\n",
              "New Jersey              56.0  19.0\n",
              "New Mexico              11.0   4.0\n",
              "New York                 6.0   0.0\n",
              "North Carolina           3.0   0.0\n",
              "Ohio                     3.0   0.0\n",
              "Oregon                  36.0  13.0\n",
              "Pennsylvania           110.0  20.0\n",
              "Rhode Island             1.0   0.0\n",
              "South Carolina          15.0   3.0\n",
              "Tennessee               96.0  47.0\n",
              "Texas                   49.0  22.0\n",
              "Utah                    16.0   6.0\n",
              "Vermont                  2.0   1.0\n",
              "Virginia                49.0  11.0\n",
              "Washington              75.0  23.0\n",
              "West Virginia            8.0   3.0"
            ]
          },
          "metadata": {
            "tags": []
          },
          "execution_count": 13
        }
      ]
    },
    {
      "cell_type": "markdown",
      "metadata": {
        "id": "JBJF4Xu-iswR",
        "colab_type": "text"
      },
      "source": [
        "GRAPH REPRESENTING THE STATUS OF COMPLAINTS IN STATES"
      ]
    },
    {
      "cell_type": "code",
      "metadata": {
        "id": "wEnSMRa1eXQ7",
        "colab_type": "code",
        "colab": {
          "base_uri": "https://localhost:8080/",
          "height": 821
        },
        "outputId": "1ee520f1-968f-4d36-9629-6978e689a044"
      },
      "source": [
        "a = statecomp.sort_values(\"Closed\",axis = 0,ascending=False)\n",
        "a.plot(kind=\"bar\", figsize=(16,12), stacked=True)\n"
      ],
      "execution_count": 14,
      "outputs": [
        {
          "output_type": "execute_result",
          "data": {
            "text/plain": [
              "<matplotlib.axes._subplots.AxesSubplot at 0x7f4f18974748>"
            ]
          },
          "metadata": {
            "tags": []
          },
          "execution_count": 14
        },
        {
          "output_type": "display_data",
          "data": {
            "image/png": "[encoded data removed]",
            "text/plain": [
              "<Figure size 1152x864 with 1 Axes>"
            ]
          },
          "metadata": {
            "tags": [],
            "needs_background": "light"
          }
        }
      ]
    },
    {
      "cell_type": "markdown",
      "metadata": {
        "id": "pF5I_hgxkYML",
        "colab_type": "text"
      },
      "source": [
        "8) TO SEE WHICH STATE HAS MORE UNRESOLVED COMPLAINTS"
      ]
    },
    {
      "cell_type": "code",
      "metadata": {
        "id": "c31MSnnCkWPv",
        "colab_type": "code",
        "colab": {
          "base_uri": "https://localhost:8080/",
          "height": 816
        },
        "outputId": "6bbf81ab-1682-4b81-b379-c422ae9045ec"
      },
      "source": [
        "print(a)\n",
        "print('The maximum no of unresolved complaints is:',a.max())"
      ],
      "execution_count": 15,
      "outputs": [
        {
          "output_type": "stream",
          "text": [
            "finalstatus           Closed  Open\n",
            "State                             \n",
            "Georgia                208.0  80.0\n",
            "Florida                201.0  39.0\n",
            "California             159.0  61.0\n",
            "Illinois               135.0  29.0\n",
            "Pennsylvania           110.0  20.0\n",
            "Tennessee               96.0  47.0\n",
            "Michigan                92.0  23.0\n",
            "Washington              75.0  23.0\n",
            "Maryland                63.0  15.0\n",
            "Colorado                58.0  22.0\n",
            "New Jersey              56.0  19.0\n",
            "Massachusetts           50.0  11.0\n",
            "Indiana                 50.0   9.0\n",
            "Texas                   49.0  22.0\n",
            "Virginia                49.0  11.0\n",
            "Oregon                  36.0  13.0\n",
            "Minnesota               29.0   4.0\n",
            "Mississippi             23.0  16.0\n",
            "Alabama                 17.0   9.0\n",
            "Utah                    16.0   6.0\n",
            "South Carolina          15.0   3.0\n",
            "District Of Columbia    15.0   2.0\n",
            "Arizona                 14.0   6.0\n",
            "Louisiana               12.0   1.0\n",
            "New Mexico              11.0   4.0\n",
            "Connecticut              9.0   3.0\n",
            "West Virginia            8.0   3.0\n",
            "New Hampshire            8.0   4.0\n",
            "Delaware                 8.0   4.0\n",
            "Arkansas                 6.0   0.0\n",
            "New York                 6.0   0.0\n",
            "Kentucky                 4.0   3.0\n",
            "Maine                    3.0   2.0\n",
            "North Carolina           3.0   0.0\n",
            "Missouri                 3.0   1.0\n",
            "Ohio                     3.0   0.0\n",
            "Vermont                  2.0   1.0\n",
            "Rhode Island             1.0   0.0\n",
            "Iowa                     1.0   0.0\n",
            "Kansas                   1.0   1.0\n",
            "Nevada                   1.0   0.0\n",
            "Montana                  1.0   0.0\n",
            "The maximum no of unresolved complaints is: finalstatus\n",
            "Closed    208.0\n",
            "Open       80.0\n",
            "dtype: float64\n"
          ],
          "name": "stdout"
        }
      ]
    },
    {
      "cell_type": "markdown",
      "metadata": {
        "id": "jm4LM7Zd2b8D",
        "colab_type": "text"
      },
      "source": [
        "9)PERCENTAGE OF COMPLAINTS RESOLVED TILL DATE"
      ]
    },
    {
      "cell_type": "code",
      "metadata": {
        "id": "ybsXAR1IqDo4",
        "colab_type": "code",
        "colab": {
          "base_uri": "https://localhost:8080/",
          "height": 83
        },
        "outputId": "96115967-84d9-457a-f2ce-1793bd5d0e92"
      },
      "source": [
        "info = dataset.groupby(['Received Via','finalstatus']).size().unstack().fillna(0)\n",
        "print(info)"
      ],
      "execution_count": 16,
      "outputs": [
        {
          "output_type": "stream",
          "text": [
            "finalstatus         Closed  Open\n",
            "Received Via                    \n",
            "Customer Care Call     864   255\n",
            "Internet               843   262\n"
          ],
          "name": "stdout"
        }
      ]
    },
    {
      "cell_type": "code",
      "metadata": {
        "id": "aVjqFtsb27t3",
        "colab_type": "code",
        "colab": {
          "base_uri": "https://localhost:8080/",
          "height": 150
        },
        "outputId": "e83b9043-b7c7-4684-fafd-e6583b257ee7"
      },
      "source": [
        "total_comp =info['Closed']+info['Open']\n",
        "print('The total complaints',total_comp)\n",
        "percentage = info['Closed']/total_comp*100\n",
        "print('The percentage of complaints resolved',percentage)"
      ],
      "execution_count": 17,
      "outputs": [
        {
          "output_type": "stream",
          "text": [
            "The total complaints Received Via\n",
            "Customer Care Call    1119\n",
            "Internet              1105\n",
            "dtype: int64\n",
            "The percentage of complaints resolved Received Via\n",
            "Customer Care Call    77.211796\n",
            "Internet              76.289593\n",
            "dtype: float64\n"
          ],
          "name": "stdout"
        }
      ]
    },
    {
      "cell_type": "markdown",
      "metadata": {
        "id": "vmYEuWdNwRa9",
        "colab_type": "text"
      },
      "source": [
        "CONSTRUCTING A DATAFRAME WITH ALL ENCODED VARIABLES\n"
      ]
    },
    {
      "cell_type": "code",
      "metadata": {
        "id": "xBJEuPgouHDg",
        "colab_type": "code",
        "colab": {
          "base_uri": "https://localhost:8080/",
          "height": 250
        },
        "outputId": "d8375cd6-8b3f-4b86-b1bf-4fc9f755a2e8"
      },
      "source": [
        "year = dataset.iloc[:,6]\n",
        "month = dataset.iloc[:,7]\n",
        "day = dataset.iloc[:,8]\n",
        "import pandas as pd  \n",
        "lst = [cust_comp,rec_via,city,state,onbehalf,year,month,day]\n",
        "df_t = pd.DataFrame(lst) \n",
        "df = df_t.T\n",
        "print(df) "
      ],
      "execution_count": 18,
      "outputs": [
        {
          "output_type": "stream",
          "text": [
            "         0  1    2   3  4     5  6   7\n",
            "0      245  0    0  18  0  2015  4  22\n",
            "1     1327  1    1  10  0  2015  4   8\n",
            "2     1448  1    1  10  1  2015  4  18\n",
            "3      329  1    1  10  1  2015  5   7\n",
            "4      688  1    1  10  0  2015  5  26\n",
            "...    ... ..  ...  .. ..   ... ..  ..\n",
            "2219  1406  0  926   9  0  2015  4   2\n",
            "2220   386  0  927  20  0  2015  6   2\n",
            "2221  1686  1  927  20  0  2015  6   9\n",
            "2222   971  0  927  20  0  2015  6  23\n",
            "2223   818  0  927  20  1  2015  6  24\n",
            "\n",
            "[2224 rows x 8 columns]\n"
          ],
          "name": "stdout"
        }
      ]
    },
    {
      "cell_type": "markdown",
      "metadata": {
        "id": "V3f3wvNLJvWz",
        "colab_type": "text"
      },
      "source": [
        "SETTING STATUS AS Y TO PREDICT IF THE COMPLAINT LODGED WILL BE OPEN OR CLOSED "
      ]
    },
    {
      "cell_type": "code",
      "metadata": {
        "id": "aYn2HsNK_hFY",
        "colab_type": "code",
        "colab": {
          "base_uri": "https://localhost:8080/",
          "height": 150
        },
        "outputId": "5a247d06-81da-44fc-902d-64e9cb806889"
      },
      "source": [
        "\n",
        "y = dataset.iloc[:,9]\n",
        "from sklearn.preprocessing import LabelEncoder\n",
        "le = LabelEncoder()\n",
        "y = le.fit_transform(y)\n",
        "print(y)\n",
        "y = y.reshape(len(y),1)\n",
        "y\n"
      ],
      "execution_count": 20,
      "outputs": [
        {
          "output_type": "stream",
          "text": [
            "[0 0 0 ... 0 0 1]\n"
          ],
          "name": "stdout"
        },
        {
          "output_type": "execute_result",
          "data": {
            "text/plain": [
              "array([[0],\n",
              "       [0],\n",
              "       [0],\n",
              "       ...,\n",
              "       [0],\n",
              "       [0],\n",
              "       [1]])"
            ]
          },
          "metadata": {
            "tags": []
          },
          "execution_count": 20
        }
      ]
    },
    {
      "cell_type": "markdown",
      "metadata": {
        "id": "Y7Xs8a7Esipo",
        "colab_type": "text"
      },
      "source": [
        "SPLITTING DATA INTO TRAIN AND TEST "
      ]
    },
    {
      "cell_type": "code",
      "metadata": {
        "id": "6BAuZUk9qRXT",
        "colab_type": "code",
        "colab": {
          "base_uri": "https://localhost:8080/",
          "height": 1000
        },
        "outputId": "2907939f-3041-4dc3-da6d-b948206a6ead"
      },
      "source": [
        "\n",
        "from sklearn.model_selection import train_test_split\n",
        "df_train, df_test, y_train, y_test = train_test_split(df, y, test_size = 0.25, random_state = 0)\n",
        "\n",
        "print(df_train)\n",
        "\n",
        "print(df_test)\n",
        "\n",
        "print(y_test)\n",
        "\n",
        "print(y_train)"
      ],
      "execution_count": 21,
      "outputs": [
        {
          "output_type": "stream",
          "text": [
            "         0  1    2   3  4     5  6   7\n",
            "92    1520  0   29  10  0  2015  5  26\n",
            "2043   256  0  837   4  0  2015  6   9\n",
            "1821  1366  0  741   3  0  2015  6  23\n",
            "878    182  0  378  37  0  2015  6  12\n",
            "1108  1074  0  437   9  0  2015  5   9\n",
            "...    ... ..  ...  .. ..   ... ..  ..\n",
            "1033   226  1  419  33  0  2015  5  18\n",
            "1731  1352  0  719   3  0  2015  6  26\n",
            "763    525  1  311  11  1  2015  5  26\n",
            "835     64  1  361   4  0  2015  4  21\n",
            "1653  1747  0  681  27  0  2015  4  20\n",
            "\n",
            "[1668 rows x 8 columns]\n",
            "         0  1    2   3  4     5  6   7\n",
            "384   1475  0  143  40  0  2015  6   3\n",
            "1982  1595  1  803  20  0  2015  6  27\n",
            "985    634  0  399  27  0  2015  6   1\n",
            "1386   661  1  563  36  0  2015  5  26\n",
            "1294  1405  0  518   3  0  2015  6  11\n",
            "...    ... ..  ...  .. ..   ... ..  ..\n",
            "1025   897  0  414  10  0  2015  6  28\n",
            "227    125  0   76  20  0  2015  6  17\n",
            "1559  1462  0  645  33  0  2015  5  14\n",
            "1151  1295  0  457   2  0  2015  5   5\n",
            "526     58  0  192   3  0  2015  6  24\n",
            "\n",
            "[556 rows x 8 columns]\n",
            "[[0]\n",
            " [0]\n",
            " [0]\n",
            " [0]\n",
            " [0]\n",
            " [0]\n",
            " [0]\n",
            " [0]\n",
            " [0]\n",
            " [0]\n",
            " [0]\n",
            " [0]\n",
            " [0]\n",
            " [0]\n",
            " [0]\n",
            " [0]\n",
            " [0]\n",
            " [1]\n",
            " [1]\n",
            " [0]\n",
            " [0]\n",
            " [0]\n",
            " [0]\n",
            " [1]\n",
            " [0]\n",
            " [0]\n",
            " [0]\n",
            " [0]\n",
            " [0]\n",
            " [0]\n",
            " [1]\n",
            " [0]\n",
            " [1]\n",
            " [0]\n",
            " [0]\n",
            " [0]\n",
            " [0]\n",
            " [0]\n",
            " [0]\n",
            " [1]\n",
            " [1]\n",
            " [0]\n",
            " [0]\n",
            " [1]\n",
            " [0]\n",
            " [1]\n",
            " [0]\n",
            " [0]\n",
            " [0]\n",
            " [0]\n",
            " [0]\n",
            " [0]\n",
            " [0]\n",
            " [1]\n",
            " [0]\n",
            " [0]\n",
            " [0]\n",
            " [0]\n",
            " [0]\n",
            " [0]\n",
            " [1]\n",
            " [0]\n",
            " [0]\n",
            " [0]\n",
            " [1]\n",
            " [0]\n",
            " [0]\n",
            " [0]\n",
            " [0]\n",
            " [0]\n",
            " [0]\n",
            " [0]\n",
            " [0]\n",
            " [1]\n",
            " [0]\n",
            " [0]\n",
            " [1]\n",
            " [0]\n",
            " [0]\n",
            " [0]\n",
            " [1]\n",
            " [0]\n",
            " [0]\n",
            " [0]\n",
            " [0]\n",
            " [0]\n",
            " [0]\n",
            " [1]\n",
            " [0]\n",
            " [0]\n",
            " [0]\n",
            " [0]\n",
            " [1]\n",
            " [0]\n",
            " [0]\n",
            " [1]\n",
            " [1]\n",
            " [0]\n",
            " [1]\n",
            " [0]\n",
            " [0]\n",
            " [1]\n",
            " [0]\n",
            " [0]\n",
            " [0]\n",
            " [1]\n",
            " [1]\n",
            " [1]\n",
            " [0]\n",
            " [0]\n",
            " [1]\n",
            " [0]\n",
            " [0]\n",
            " [0]\n",
            " [0]\n",
            " [0]\n",
            " [1]\n",
            " [0]\n",
            " [0]\n",
            " [0]\n",
            " [0]\n",
            " [0]\n",
            " [0]\n",
            " [0]\n",
            " [0]\n",
            " [0]\n",
            " [0]\n",
            " [0]\n",
            " [1]\n",
            " [1]\n",
            " [0]\n",
            " [0]\n",
            " [0]\n",
            " [1]\n",
            " [0]\n",
            " [0]\n",
            " [1]\n",
            " [0]\n",
            " [0]\n",
            " [0]\n",
            " [0]\n",
            " [0]\n",
            " [0]\n",
            " [1]\n",
            " [1]\n",
            " [0]\n",
            " [0]\n",
            " [0]\n",
            " [0]\n",
            " [0]\n",
            " [1]\n",
            " [0]\n",
            " [0]\n",
            " [0]\n",
            " [0]\n",
            " [0]\n",
            " [0]\n",
            " [1]\n",
            " [0]\n",
            " [0]\n",
            " [0]\n",
            " [1]\n",
            " [0]\n",
            " [0]\n",
            " [1]\n",
            " [0]\n",
            " [0]\n",
            " [0]\n",
            " [1]\n",
            " [0]\n",
            " [0]\n",
            " [0]\n",
            " [0]\n",
            " [0]\n",
            " [1]\n",
            " [0]\n",
            " [0]\n",
            " [0]\n",
            " [0]\n",
            " [1]\n",
            " [1]\n",
            " [0]\n",
            " [0]\n",
            " [0]\n",
            " [0]\n",
            " [0]\n",
            " [0]\n",
            " [1]\n",
            " [1]\n",
            " [0]\n",
            " [0]\n",
            " [0]\n",
            " [0]\n",
            " [0]\n",
            " [0]\n",
            " [0]\n",
            " [0]\n",
            " [0]\n",
            " [0]\n",
            " [0]\n",
            " [0]\n",
            " [0]\n",
            " [1]\n",
            " [1]\n",
            " [0]\n",
            " [0]\n",
            " [0]\n",
            " [0]\n",
            " [1]\n",
            " [0]\n",
            " [0]\n",
            " [1]\n",
            " [0]\n",
            " [0]\n",
            " [0]\n",
            " [1]\n",
            " [1]\n",
            " [0]\n",
            " [0]\n",
            " [0]\n",
            " [0]\n",
            " [0]\n",
            " [0]\n",
            " [0]\n",
            " [0]\n",
            " [0]\n",
            " [0]\n",
            " [0]\n",
            " [1]\n",
            " [0]\n",
            " [1]\n",
            " [0]\n",
            " [0]\n",
            " [0]\n",
            " [0]\n",
            " [1]\n",
            " [0]\n",
            " [0]\n",
            " [1]\n",
            " [0]\n",
            " [0]\n",
            " [0]\n",
            " [1]\n",
            " [0]\n",
            " [0]\n",
            " [0]\n",
            " [0]\n",
            " [0]\n",
            " [0]\n",
            " [0]\n",
            " [0]\n",
            " [1]\n",
            " [0]\n",
            " [0]\n",
            " [1]\n",
            " [0]\n",
            " [0]\n",
            " [0]\n",
            " [0]\n",
            " [0]\n",
            " [0]\n",
            " [0]\n",
            " [0]\n",
            " [0]\n",
            " [0]\n",
            " [0]\n",
            " [0]\n",
            " [0]\n",
            " [0]\n",
            " [0]\n",
            " [0]\n",
            " [0]\n",
            " [1]\n",
            " [0]\n",
            " [0]\n",
            " [1]\n",
            " [0]\n",
            " [0]\n",
            " [1]\n",
            " [1]\n",
            " [0]\n",
            " [0]\n",
            " [0]\n",
            " [0]\n",
            " [1]\n",
            " [1]\n",
            " [0]\n",
            " [0]\n",
            " [0]\n",
            " [0]\n",
            " [0]\n",
            " [0]\n",
            " [0]\n",
            " [0]\n",
            " [0]\n",
            " [0]\n",
            " [0]\n",
            " [0]\n",
            " [1]\n",
            " [0]\n",
            " [0]\n",
            " [0]\n",
            " [0]\n",
            " [0]\n",
            " [1]\n",
            " [0]\n",
            " [0]\n",
            " [0]\n",
            " [0]\n",
            " [0]\n",
            " [1]\n",
            " [0]\n",
            " [0]\n",
            " [1]\n",
            " [0]\n",
            " [0]\n",
            " [1]\n",
            " [0]\n",
            " [0]\n",
            " [0]\n",
            " [0]\n",
            " [1]\n",
            " [0]\n",
            " [0]\n",
            " [0]\n",
            " [1]\n",
            " [0]\n",
            " [0]\n",
            " [0]\n",
            " [0]\n",
            " [0]\n",
            " [0]\n",
            " [0]\n",
            " [0]\n",
            " [0]\n",
            " [0]\n",
            " [0]\n",
            " [0]\n",
            " [1]\n",
            " [0]\n",
            " [1]\n",
            " [0]\n",
            " [1]\n",
            " [0]\n",
            " [0]\n",
            " [0]\n",
            " [0]\n",
            " [0]\n",
            " [0]\n",
            " [0]\n",
            " [1]\n",
            " [0]\n",
            " [0]\n",
            " [0]\n",
            " [1]\n",
            " [0]\n",
            " [0]\n",
            " [1]\n",
            " [0]\n",
            " [0]\n",
            " [0]\n",
            " [1]\n",
            " [0]\n",
            " [1]\n",
            " [0]\n",
            " [0]\n",
            " [0]\n",
            " [1]\n",
            " [0]\n",
            " [0]\n",
            " [1]\n",
            " [0]\n",
            " [0]\n",
            " [0]\n",
            " [0]\n",
            " [0]\n",
            " [0]\n",
            " [0]\n",
            " [0]\n",
            " [1]\n",
            " [0]\n",
            " [0]\n",
            " [0]\n",
            " [1]\n",
            " [0]\n",
            " [0]\n",
            " [0]\n",
            " [0]\n",
            " [0]\n",
            " [0]\n",
            " [0]\n",
            " [0]\n",
            " [0]\n",
            " [1]\n",
            " [0]\n",
            " [0]\n",
            " [0]\n",
            " [0]\n",
            " [0]\n",
            " [0]\n",
            " [0]\n",
            " [0]\n",
            " [0]\n",
            " [1]\n",
            " [0]\n",
            " [0]\n",
            " [0]\n",
            " [1]\n",
            " [0]\n",
            " [0]\n",
            " [0]\n",
            " [1]\n",
            " [0]\n",
            " [1]\n",
            " [1]\n",
            " [1]\n",
            " [0]\n",
            " [0]\n",
            " [0]\n",
            " [0]\n",
            " [0]\n",
            " [0]\n",
            " [0]\n",
            " [0]\n",
            " [0]\n",
            " [0]\n",
            " [0]\n",
            " [0]\n",
            " [1]\n",
            " [1]\n",
            " [0]\n",
            " [0]\n",
            " [0]\n",
            " [0]\n",
            " [0]\n",
            " [0]\n",
            " [0]\n",
            " [0]\n",
            " [0]\n",
            " [1]\n",
            " [0]\n",
            " [0]\n",
            " [0]\n",
            " [1]\n",
            " [0]\n",
            " [0]\n",
            " [0]\n",
            " [0]\n",
            " [0]\n",
            " [0]\n",
            " [0]\n",
            " [0]\n",
            " [0]\n",
            " [1]\n",
            " [0]\n",
            " [1]\n",
            " [0]\n",
            " [0]\n",
            " [0]\n",
            " [0]\n",
            " [0]\n",
            " [0]\n",
            " [0]\n",
            " [0]\n",
            " [1]\n",
            " [0]\n",
            " [0]\n",
            " [0]\n",
            " [1]\n",
            " [0]\n",
            " [0]\n",
            " [0]\n",
            " [1]\n",
            " [0]\n",
            " [0]\n",
            " [0]\n",
            " [1]\n",
            " [0]\n",
            " [0]\n",
            " [1]\n",
            " [0]\n",
            " [0]\n",
            " [1]\n",
            " [0]\n",
            " [0]\n",
            " [1]\n",
            " [0]\n",
            " [1]\n",
            " [0]\n",
            " [0]\n",
            " [0]\n",
            " [0]\n",
            " [0]\n",
            " [1]\n",
            " [0]\n",
            " [0]\n",
            " [1]\n",
            " [1]\n",
            " [0]\n",
            " [0]\n",
            " [0]\n",
            " [0]\n",
            " [1]\n",
            " [0]\n",
            " [0]\n",
            " [0]\n",
            " [0]\n",
            " [0]\n",
            " [0]\n",
            " [0]\n",
            " [0]\n",
            " [0]\n",
            " [0]\n",
            " [0]\n",
            " [0]\n",
            " [0]\n",
            " [0]\n",
            " [1]\n",
            " [0]\n",
            " [0]\n",
            " [1]\n",
            " [1]\n",
            " [1]\n",
            " [0]\n",
            " [0]\n",
            " [0]\n",
            " [0]\n",
            " [1]\n",
            " [0]\n",
            " [1]\n",
            " [0]\n",
            " [0]\n",
            " [0]\n",
            " [1]\n",
            " [0]\n",
            " [0]\n",
            " [0]\n",
            " [1]\n",
            " [1]\n",
            " [0]\n",
            " [0]\n",
            " [0]\n",
            " [0]\n",
            " [0]\n",
            " [0]\n",
            " [0]\n",
            " [0]\n",
            " [0]\n",
            " [1]\n",
            " [0]\n",
            " [0]\n",
            " [1]\n",
            " [1]\n",
            " [1]\n",
            " [0]\n",
            " [0]]\n",
            "[[0]\n",
            " [0]\n",
            " [0]\n",
            " ...\n",
            " [1]\n",
            " [0]\n",
            " [0]]\n"
          ],
          "name": "stdout"
        }
      ]
    },
    {
      "cell_type": "markdown",
      "metadata": {
        "id": "XsdIy5v3sqSR",
        "colab_type": "text"
      },
      "source": [
        "FEATURE SCALING"
      ]
    },
    {
      "cell_type": "code",
      "metadata": {
        "id": "YSdFqoP9sqk9",
        "colab_type": "code",
        "colab": {
          "base_uri": "https://localhost:8080/",
          "height": 450
        },
        "outputId": "a013e22b-518c-42cf-9774-4aa88a67ecc0"
      },
      "source": [
        "from sklearn.preprocessing import StandardScaler\n",
        "sc = StandardScaler()\n",
        "df_train = sc.fit_transform(df_train)\n",
        "df_test = sc.fit_transform(df_test)\n",
        "\n",
        "print(df_test)\n",
        "\n",
        "print(df_train)\n"
      ],
      "execution_count": 22,
      "outputs": [
        {
          "output_type": "stream",
          "text": [
            "[[ 1.09766476 -0.98926624 -1.09213487 ...  0.          0.84926868\n",
            "  -1.8107605 ]\n",
            " [ 1.31528765  1.01085023  1.34880024 ...  0.          0.84926868\n",
            "   1.07193911]\n",
            " [-0.42750893 -0.98926624 -0.14534792 ...  0.          0.84926868\n",
            "  -2.05098547]\n",
            " ...\n",
            " [ 1.07408895 -0.98926624  0.76445516 ...  0.         -0.31091163\n",
            "  -0.48952318]\n",
            " [ 0.77123044 -0.98926624  0.0691585  ...  0.         -0.31091163\n",
            "  -1.57053553]\n",
            " [-1.47209876 -0.98926624 -0.91091393 ...  0.          0.84926868\n",
            "   0.71160166]]\n",
            "[[ 1.20852785 -0.99521528 -1.56783795 ...  0.         -0.42017156\n",
            "   0.91316054]\n",
            " [-1.13452292 -0.99521528  1.42017376 ...  0.          0.77581164\n",
            "  -1.10300237]\n",
            " [ 0.92306122 -0.99521528  1.06516247 ...  0.          0.77581164\n",
            "   0.55736708]\n",
            " ...\n",
            " [-0.63588316  1.00480772 -0.52499228 ...  0.         -0.42017156\n",
            "   0.91316054]\n",
            " [-1.49042936  1.00480772 -0.34009057 ...  0.         -1.61615476\n",
            "   0.32017145]\n",
            " [ 1.62931307 -0.99521528  0.84328041 ...  0.         -1.61615476\n",
            "   0.20157363]]\n"
          ],
          "name": "stdout"
        }
      ]
    },
    {
      "cell_type": "markdown",
      "metadata": {
        "id": "m6nsjSLbw1bc",
        "colab_type": "text"
      },
      "source": [
        "DECISION TREE MODEL"
      ]
    },
    {
      "cell_type": "code",
      "metadata": {
        "id": "4xNeYhbvw1vF",
        "colab_type": "code",
        "colab": {
          "base_uri": "https://localhost:8080/",
          "height": 116
        },
        "outputId": "93a26e89-7b8e-4275-f5c7-66f9e17cd922"
      },
      "source": [
        "from sklearn.tree import DecisionTreeRegressor\n",
        "regressor = DecisionTreeRegressor(random_state = 0)\n",
        "regressor.fit(df_train, y_train)"
      ],
      "execution_count": 23,
      "outputs": [
        {
          "output_type": "execute_result",
          "data": {
            "text/plain": [
              "DecisionTreeRegressor(ccp_alpha=0.0, criterion='mse', max_depth=None,\n",
              "                      max_features=None, max_leaf_nodes=None,\n",
              "                      min_impurity_decrease=0.0, min_impurity_split=None,\n",
              "                      min_samples_leaf=1, min_samples_split=2,\n",
              "                      min_weight_fraction_leaf=0.0, presort='deprecated',\n",
              "                      random_state=0, splitter='best')"
            ]
          },
          "metadata": {
            "tags": []
          },
          "execution_count": 23
        }
      ]
    },
    {
      "cell_type": "markdown",
      "metadata": {
        "id": "omHuZiItKGHM",
        "colab_type": "text"
      },
      "source": [
        "TO PREDICT THE TEST RESULT"
      ]
    },
    {
      "cell_type": "code",
      "metadata": {
        "id": "B2t0IWsJCNqc",
        "colab_type": "code",
        "colab": {
          "base_uri": "https://localhost:8080/",
          "height": 133
        },
        "outputId": "3840164c-e707-4b65-cb4b-35ee10e561f8"
      },
      "source": [
        "y_pred = regressor.predict(df_test)\n",
        "np.set_printoptions(precision=2)\n",
        "print(np.concatenate((y_pred.reshape(len(y_pred),1), y_test.reshape(len(y_test),1)),1))"
      ],
      "execution_count": 24,
      "outputs": [
        {
          "output_type": "stream",
          "text": [
            "[[0. 0.]\n",
            " [1. 0.]\n",
            " [0. 0.]\n",
            " ...\n",
            " [1. 1.]\n",
            " [0. 0.]\n",
            " [0. 0.]]\n"
          ],
          "name": "stdout"
        }
      ]
    },
    {
      "cell_type": "code",
      "metadata": {
        "id": "30rO68f8Hv1d",
        "colab_type": "code",
        "colab": {
          "base_uri": "https://localhost:8080/",
          "height": 66
        },
        "outputId": "fdf686f2-8f3b-41bb-c1ea-d3d1608f8481"
      },
      "source": [
        "from sklearn.metrics import confusion_matrix, accuracy_score\n",
        "cm = confusion_matrix(y_test,y_pred)\n",
        "print(cm)\n",
        "a = accuracy_score(y_test,y_pred)\n",
        "print('The accuracy of the model is :',a*100)"
      ],
      "execution_count": 25,
      "outputs": [
        {
          "output_type": "stream",
          "text": [
            "[[363  75]\n",
            " [ 74  44]]\n",
            "The accuracy of the model is : 73.20143884892086\n"
          ],
          "name": "stdout"
        }
      ]
    }
  ]
}